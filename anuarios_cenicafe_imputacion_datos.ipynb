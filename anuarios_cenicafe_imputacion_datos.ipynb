{
 "cells": [
  {
   "cell_type": "code",
   "execution_count": 1,
   "metadata": {},
   "outputs": [],
   "source": [
    "import pandas as pd\n",
    "import numpy as np\n",
    "import matplotlib.pyplot as plt\n",
    "from matplotlib.colors import ListedColormap\n",
    "import matplotlib.pyplot as plt\n",
    "import seaborn as sns\n",
    "%matplotlib inline"
   ]
  },
  {
   "cell_type": "code",
   "execution_count": 2,
   "metadata": {},
   "outputs": [
    {
     "data": {
      "text/html": [
       "<div>\n",
       "<style scoped>\n",
       "    .dataframe tbody tr th:only-of-type {\n",
       "        vertical-align: middle;\n",
       "    }\n",
       "\n",
       "    .dataframe tbody tr th {\n",
       "        vertical-align: top;\n",
       "    }\n",
       "\n",
       "    .dataframe thead th {\n",
       "        text-align: right;\n",
       "    }\n",
       "</style>\n",
       "<table border=\"1\" class=\"dataframe\">\n",
       "  <thead>\n",
       "    <tr style=\"text-align: right;\">\n",
       "      <th></th>\n",
       "      <th>Fecha</th>\n",
       "      <th>Estacion</th>\n",
       "      <th>Departamento</th>\n",
       "      <th>Municipio</th>\n",
       "      <th>Temperatura_min</th>\n",
       "      <th>Temperatura_max</th>\n",
       "      <th>Temperatura_med</th>\n",
       "      <th>Humedad_rel</th>\n",
       "      <th>Precipitacion_dia</th>\n",
       "      <th>Precipitacion_noche</th>\n",
       "      <th>Precipitacion_total</th>\n",
       "      <th>Brillo_solar</th>\n",
       "      <th>Longitud</th>\n",
       "      <th>Latitud</th>\n",
       "      <th>Altitud</th>\n",
       "    </tr>\n",
       "  </thead>\n",
       "  <tbody>\n",
       "    <tr>\n",
       "      <td>0</td>\n",
       "      <td>1/Enero/2006</td>\n",
       "      <td>El Trapiche</td>\n",
       "      <td>Antioquia</td>\n",
       "      <td>Bolívar</td>\n",
       "      <td>16.6</td>\n",
       "      <td>28.4</td>\n",
       "      <td>20.4</td>\n",
       "      <td>74.7</td>\n",
       "      <td>0.0</td>\n",
       "      <td>0.0</td>\n",
       "      <td>0.0</td>\n",
       "      <td>4.3</td>\n",
       "      <td>76°1'W</td>\n",
       "      <td>5°48'N</td>\n",
       "      <td>1277</td>\n",
       "    </tr>\n",
       "    <tr>\n",
       "      <td>1</td>\n",
       "      <td>2/Enero/2006</td>\n",
       "      <td>El Trapiche</td>\n",
       "      <td>Antioquia</td>\n",
       "      <td>Bolívar</td>\n",
       "      <td>17.6</td>\n",
       "      <td>28.0</td>\n",
       "      <td>21.0</td>\n",
       "      <td>74.3</td>\n",
       "      <td>0.0</td>\n",
       "      <td>11.9</td>\n",
       "      <td>11.9</td>\n",
       "      <td>6.6</td>\n",
       "      <td>76°1'W</td>\n",
       "      <td>5°48'N</td>\n",
       "      <td>1277</td>\n",
       "    </tr>\n",
       "    <tr>\n",
       "      <td>2</td>\n",
       "      <td>3/Enero/2006</td>\n",
       "      <td>El Trapiche</td>\n",
       "      <td>Antioquia</td>\n",
       "      <td>Bolívar</td>\n",
       "      <td>17.4</td>\n",
       "      <td>26.5</td>\n",
       "      <td>20.4</td>\n",
       "      <td>77.3</td>\n",
       "      <td>0.0</td>\n",
       "      <td>15.9</td>\n",
       "      <td>15.9</td>\n",
       "      <td>3.1</td>\n",
       "      <td>76°1'W</td>\n",
       "      <td>5°48'N</td>\n",
       "      <td>1277</td>\n",
       "    </tr>\n",
       "    <tr>\n",
       "      <td>3</td>\n",
       "      <td>4/Enero/2006</td>\n",
       "      <td>El Trapiche</td>\n",
       "      <td>Antioquia</td>\n",
       "      <td>Bolívar</td>\n",
       "      <td>15.7</td>\n",
       "      <td>27.6</td>\n",
       "      <td>20.7</td>\n",
       "      <td>72.0</td>\n",
       "      <td>0.0</td>\n",
       "      <td>0.0</td>\n",
       "      <td>0.0</td>\n",
       "      <td>6.9</td>\n",
       "      <td>76°1'W</td>\n",
       "      <td>5°48'N</td>\n",
       "      <td>1277</td>\n",
       "    </tr>\n",
       "    <tr>\n",
       "      <td>4</td>\n",
       "      <td>5/Enero/2006</td>\n",
       "      <td>El Trapiche</td>\n",
       "      <td>Antioquia</td>\n",
       "      <td>Bolívar</td>\n",
       "      <td>17.2</td>\n",
       "      <td>25.2</td>\n",
       "      <td>19.2</td>\n",
       "      <td>86.0</td>\n",
       "      <td>0.3</td>\n",
       "      <td>8.0</td>\n",
       "      <td>8.3</td>\n",
       "      <td>3.0</td>\n",
       "      <td>76°1'W</td>\n",
       "      <td>5°48'N</td>\n",
       "      <td>1277</td>\n",
       "    </tr>\n",
       "  </tbody>\n",
       "</table>\n",
       "</div>"
      ],
      "text/plain": [
       "          Fecha      Estacion Departamento Municipio  Temperatura_min  \\\n",
       "0  1/Enero/2006   El Trapiche    Antioquia   Bolívar             16.6   \n",
       "1  2/Enero/2006   El Trapiche    Antioquia   Bolívar             17.6   \n",
       "2  3/Enero/2006   El Trapiche    Antioquia   Bolívar             17.4   \n",
       "3  4/Enero/2006   El Trapiche    Antioquia   Bolívar             15.7   \n",
       "4  5/Enero/2006   El Trapiche    Antioquia   Bolívar             17.2   \n",
       "\n",
       "   Temperatura_max  Temperatura_med  Humedad_rel  Precipitacion_dia  \\\n",
       "0             28.4             20.4         74.7                0.0   \n",
       "1             28.0             21.0         74.3                0.0   \n",
       "2             26.5             20.4         77.3                0.0   \n",
       "3             27.6             20.7         72.0                0.0   \n",
       "4             25.2             19.2         86.0                0.3   \n",
       "\n",
       "   Precipitacion_noche  Precipitacion_total  Brillo_solar Longitud Latitud  \\\n",
       "0                  0.0                  0.0           4.3   76°1'W  5°48'N   \n",
       "1                 11.9                 11.9           6.6   76°1'W  5°48'N   \n",
       "2                 15.9                 15.9           3.1   76°1'W  5°48'N   \n",
       "3                  0.0                  0.0           6.9   76°1'W  5°48'N   \n",
       "4                  8.0                  8.3           3.0   76°1'W  5°48'N   \n",
       "\n",
       "   Altitud  \n",
       "0     1277  \n",
       "1     1277  \n",
       "2     1277  \n",
       "3     1277  \n",
       "4     1277  "
      ]
     },
     "execution_count": 2,
     "metadata": {},
     "output_type": "execute_result"
    }
   ],
   "source": [
    "data= pd.read_csv('fileOut.csv')\n",
    "data.head()"
   ]
  },
  {
   "cell_type": "code",
   "execution_count": 3,
   "metadata": {},
   "outputs": [
    {
     "data": {
      "text/html": [
       "<div>\n",
       "<style scoped>\n",
       "    .dataframe tbody tr th:only-of-type {\n",
       "        vertical-align: middle;\n",
       "    }\n",
       "\n",
       "    .dataframe tbody tr th {\n",
       "        vertical-align: top;\n",
       "    }\n",
       "\n",
       "    .dataframe thead th {\n",
       "        text-align: right;\n",
       "    }\n",
       "</style>\n",
       "<table border=\"1\" class=\"dataframe\">\n",
       "  <thead>\n",
       "    <tr style=\"text-align: right;\">\n",
       "      <th></th>\n",
       "      <th>Temperatura_min</th>\n",
       "      <th>Temperatura_max</th>\n",
       "      <th>Temperatura_med</th>\n",
       "      <th>Humedad_rel</th>\n",
       "      <th>Precipitacion_dia</th>\n",
       "      <th>Precipitacion_noche</th>\n",
       "      <th>Precipitacion_total</th>\n",
       "      <th>Brillo_solar</th>\n",
       "      <th>Altitud</th>\n",
       "    </tr>\n",
       "  </thead>\n",
       "  <tbody>\n",
       "    <tr>\n",
       "      <td>count</td>\n",
       "      <td>486192.000000</td>\n",
       "      <td>486192.000000</td>\n",
       "      <td>486192.000000</td>\n",
       "      <td>485700.000000</td>\n",
       "      <td>488888.000000</td>\n",
       "      <td>488888.000000</td>\n",
       "      <td>488888.000000</td>\n",
       "      <td>469326.000000</td>\n",
       "      <td>489622.000000</td>\n",
       "    </tr>\n",
       "    <tr>\n",
       "      <td>mean</td>\n",
       "      <td>16.398279</td>\n",
       "      <td>25.611119</td>\n",
       "      <td>20.353202</td>\n",
       "      <td>79.730380</td>\n",
       "      <td>2.411428</td>\n",
       "      <td>3.673812</td>\n",
       "      <td>6.085240</td>\n",
       "      <td>4.244910</td>\n",
       "      <td>1477.505206</td>\n",
       "    </tr>\n",
       "    <tr>\n",
       "      <td>std</td>\n",
       "      <td>2.397248</td>\n",
       "      <td>3.517686</td>\n",
       "      <td>2.677615</td>\n",
       "      <td>8.698412</td>\n",
       "      <td>6.491423</td>\n",
       "      <td>9.642335</td>\n",
       "      <td>11.985194</td>\n",
       "      <td>2.728723</td>\n",
       "      <td>400.140534</td>\n",
       "    </tr>\n",
       "    <tr>\n",
       "      <td>min</td>\n",
       "      <td>0.000000</td>\n",
       "      <td>5.200000</td>\n",
       "      <td>2.800000</td>\n",
       "      <td>27.700000</td>\n",
       "      <td>0.000000</td>\n",
       "      <td>0.000000</td>\n",
       "      <td>0.000000</td>\n",
       "      <td>0.000000</td>\n",
       "      <td>0.000000</td>\n",
       "    </tr>\n",
       "    <tr>\n",
       "      <td>25%</td>\n",
       "      <td>15.600000</td>\n",
       "      <td>24.000000</td>\n",
       "      <td>19.300000</td>\n",
       "      <td>75.000000</td>\n",
       "      <td>0.000000</td>\n",
       "      <td>0.000000</td>\n",
       "      <td>0.000000</td>\n",
       "      <td>2.000000</td>\n",
       "      <td>1290.000000</td>\n",
       "    </tr>\n",
       "    <tr>\n",
       "      <td>50%</td>\n",
       "      <td>16.700000</td>\n",
       "      <td>25.800000</td>\n",
       "      <td>20.500000</td>\n",
       "      <td>80.700000</td>\n",
       "      <td>0.000000</td>\n",
       "      <td>0.000000</td>\n",
       "      <td>0.700000</td>\n",
       "      <td>4.000000</td>\n",
       "      <td>1420.000000</td>\n",
       "    </tr>\n",
       "    <tr>\n",
       "      <td>75%</td>\n",
       "      <td>17.600000</td>\n",
       "      <td>27.600000</td>\n",
       "      <td>21.800000</td>\n",
       "      <td>85.700000</td>\n",
       "      <td>1.400000</td>\n",
       "      <td>1.800000</td>\n",
       "      <td>6.600000</td>\n",
       "      <td>6.300000</td>\n",
       "      <td>1635.000000</td>\n",
       "    </tr>\n",
       "    <tr>\n",
       "      <td>max</td>\n",
       "      <td>24.600000</td>\n",
       "      <td>40.000000</td>\n",
       "      <td>32.100000</td>\n",
       "      <td>99.000000</td>\n",
       "      <td>143.000000</td>\n",
       "      <td>183.500000</td>\n",
       "      <td>183.500000</td>\n",
       "      <td>20.300000</td>\n",
       "      <td>3684.000000</td>\n",
       "    </tr>\n",
       "  </tbody>\n",
       "</table>\n",
       "</div>"
      ],
      "text/plain": [
       "       Temperatura_min  Temperatura_max  Temperatura_med    Humedad_rel  \\\n",
       "count    486192.000000    486192.000000    486192.000000  485700.000000   \n",
       "mean         16.398279        25.611119        20.353202      79.730380   \n",
       "std           2.397248         3.517686         2.677615       8.698412   \n",
       "min           0.000000         5.200000         2.800000      27.700000   \n",
       "25%          15.600000        24.000000        19.300000      75.000000   \n",
       "50%          16.700000        25.800000        20.500000      80.700000   \n",
       "75%          17.600000        27.600000        21.800000      85.700000   \n",
       "max          24.600000        40.000000        32.100000      99.000000   \n",
       "\n",
       "       Precipitacion_dia  Precipitacion_noche  Precipitacion_total  \\\n",
       "count      488888.000000        488888.000000        488888.000000   \n",
       "mean            2.411428             3.673812             6.085240   \n",
       "std             6.491423             9.642335            11.985194   \n",
       "min             0.000000             0.000000             0.000000   \n",
       "25%             0.000000             0.000000             0.000000   \n",
       "50%             0.000000             0.000000             0.700000   \n",
       "75%             1.400000             1.800000             6.600000   \n",
       "max           143.000000           183.500000           183.500000   \n",
       "\n",
       "        Brillo_solar        Altitud  \n",
       "count  469326.000000  489622.000000  \n",
       "mean        4.244910    1477.505206  \n",
       "std         2.728723     400.140534  \n",
       "min         0.000000       0.000000  \n",
       "25%         2.000000    1290.000000  \n",
       "50%         4.000000    1420.000000  \n",
       "75%         6.300000    1635.000000  \n",
       "max        20.300000    3684.000000  "
      ]
     },
     "execution_count": 3,
     "metadata": {},
     "output_type": "execute_result"
    }
   ],
   "source": [
    "data.describe()"
   ]
  },
  {
   "cell_type": "code",
   "execution_count": 4,
   "metadata": {},
   "outputs": [
    {
     "data": {
      "text/plain": [
       "(489622, 15)"
      ]
     },
     "execution_count": 4,
     "metadata": {},
     "output_type": "execute_result"
    }
   ],
   "source": [
    "data.shape"
   ]
  },
  {
   "cell_type": "code",
   "execution_count": 5,
   "metadata": {},
   "outputs": [],
   "source": [
    "#ELIMINAR FILAS QUE TENGA AL MENOS UN DATO CON \"NaN\"\n",
    "new_data = data.dropna(axis = 0, how ='any') "
   ]
  },
  {
   "cell_type": "code",
   "execution_count": 6,
   "metadata": {},
   "outputs": [
    {
     "name": "stdout",
     "output_type": "stream",
     "text": [
      "Old data frame length: 489622\n",
      "New data frame length: 465346\n",
      "Number of rows with at least 1 NA value:  24276\n"
     ]
    }
   ],
   "source": [
    "print(\"Old data frame length:\", len(data)) \n",
    "print(\"New data frame length:\", len(new_data))  \n",
    "print(\"Number of rows with at least 1 NA value: \", (len(data)-len(new_data))) "
   ]
  },
  {
   "cell_type": "code",
   "execution_count": 7,
   "metadata": {},
   "outputs": [
    {
     "data": {
      "text/plain": [
       "3430"
      ]
     },
     "execution_count": 7,
     "metadata": {},
     "output_type": "execute_result"
    }
   ],
   "source": [
    "#OBTENER LA CANTIDAD DE DATOS FALTANTES EN LA VARIABLE DE TEMPERATURA MÍNIMA\n",
    "minimum_temperature = pd.isnull(data['Temperatura_min']).values.ravel().sum()\n",
    "minimum_temperature"
   ]
  },
  {
   "cell_type": "code",
   "execution_count": 8,
   "metadata": {},
   "outputs": [
    {
     "data": {
      "text/plain": [
       "3430"
      ]
     },
     "execution_count": 8,
     "metadata": {},
     "output_type": "execute_result"
    }
   ],
   "source": [
    "#OBTENER LA CANTIDAD DE DATOS FALTANTES EN LA VARIABLE DE TEMPERATURA MÁXIMA\n",
    "maximum_temperature = pd.isnull(data['Temperatura_max']).values.ravel().sum()\n",
    "maximum_temperature"
   ]
  },
  {
   "cell_type": "code",
   "execution_count": 9,
   "metadata": {},
   "outputs": [
    {
     "data": {
      "text/plain": [
       "3430"
      ]
     },
     "execution_count": 9,
     "metadata": {},
     "output_type": "execute_result"
    }
   ],
   "source": [
    "#OBTENER LA CANTIDAD DE DATOS FALTANTES EN LA VARIABLE DE TEMPERATURA MEDIA\n",
    "medium_temperature = pd.isnull(data['Temperatura_med']).values.ravel().sum()\n",
    "medium_temperature"
   ]
  },
  {
   "cell_type": "code",
   "execution_count": 11,
   "metadata": {},
   "outputs": [
    {
     "data": {
      "text/plain": [
       "3922"
      ]
     },
     "execution_count": 11,
     "metadata": {},
     "output_type": "execute_result"
    }
   ],
   "source": [
    "#OBTENER LA CANTIDAD DE DATOS FALTANTES EN LA VARIABLE DE HUMEDAD RELATIVA\n",
    "humidity = pd.isnull(data['Humedad_rel']).values.ravel().sum()\n",
    "humidity"
   ]
  },
  {
   "cell_type": "code",
   "execution_count": 13,
   "metadata": {},
   "outputs": [
    {
     "data": {
      "text/plain": [
       "734"
      ]
     },
     "execution_count": 13,
     "metadata": {},
     "output_type": "execute_result"
    }
   ],
   "source": [
    "#OBTENER LA CANTIDAD DE DATOS FALTANTES EN LA VARIABLE DE PRECIPITACIÓN DÍA\n",
    "precipitation_day = pd.isnull(data['Precipitacion_dia']).values.ravel().sum()\n",
    "precipitation_day"
   ]
  },
  {
   "cell_type": "code",
   "execution_count": 15,
   "metadata": {},
   "outputs": [
    {
     "data": {
      "text/plain": [
       "734"
      ]
     },
     "execution_count": 15,
     "metadata": {},
     "output_type": "execute_result"
    }
   ],
   "source": [
    "#OBTENER LA CANTIDAD DE DATOS FALTANTES EN LA VARIABLE DE PRECIPITACIÓN NOCHE\n",
    "precipitation_night = pd.isnull(data['Precipitacion_noche']).values.ravel().sum()\n",
    "precipitation_night"
   ]
  },
  {
   "cell_type": "code",
   "execution_count": 17,
   "metadata": {},
   "outputs": [
    {
     "data": {
      "text/plain": [
       "734"
      ]
     },
     "execution_count": 17,
     "metadata": {},
     "output_type": "execute_result"
    }
   ],
   "source": [
    "#OBTENER LA CANTIDAD DE DATOS FALTANTES EN LA VARIABLE DE PRECIPITACIÓN TOTAL\n",
    "precipitation_total = pd.isnull(data['Precipitacion_total']).values.ravel().sum()\n",
    "precipitation_total"
   ]
  },
  {
   "cell_type": "code",
   "execution_count": 19,
   "metadata": {},
   "outputs": [
    {
     "data": {
      "text/plain": [
       "20296"
      ]
     },
     "execution_count": 19,
     "metadata": {},
     "output_type": "execute_result"
    }
   ],
   "source": [
    "#OBTENER LA CANTIDAD DE DATOS FALTANTES EN LA VARIABLE DE BRILLO SOLAR\n",
    "sunshine = pd.isnull(data['Brillo_solar']).values.ravel().sum()\n",
    "sunshine"
   ]
  },
  {
   "cell_type": "code",
   "execution_count": 21,
   "metadata": {},
   "outputs": [],
   "source": [
    "#imputación de datos de la variable temperatura mínima mediante su promedio\n",
    "col_temp_min = data['Temperatura_min'].fillna(data['Temperatura_min'].mean())"
   ]
  },
  {
   "cell_type": "code",
   "execution_count": 23,
   "metadata": {},
   "outputs": [],
   "source": [
    "new_temp_min = col_temp_min.dropna(axis = 0, how ='any') "
   ]
  },
  {
   "cell_type": "code",
   "execution_count": 25,
   "metadata": {},
   "outputs": [
    {
     "name": "stdout",
     "output_type": "stream",
     "text": [
      "Old data frame length: 489622\n",
      "New data frame length: 489622\n",
      "Number of rows with at least 1 NA value:  0\n"
     ]
    }
   ],
   "source": [
    "print(\"Old data frame length:\", len(col_temp_min)) \n",
    "print(\"New data frame length:\", len(new_temp_min))  \n",
    "print(\"Number of rows with at least 1 NA value: \", (len(col_temp_min)-len(new_temp_min)))"
   ]
  },
  {
   "cell_type": "code",
   "execution_count": 27,
   "metadata": {},
   "outputs": [],
   "source": [
    "#imputación de datos de la variable temperatura máxima mediante su promedio\n",
    "col_temp_max = data['Temperatura_max'].fillna(data['Temperatura_max'].mean())"
   ]
  },
  {
   "cell_type": "code",
   "execution_count": 29,
   "metadata": {},
   "outputs": [],
   "source": [
    "#imputación de datos de la variable temperatura media mediante su promedio\n",
    "col_temp_med = data['Temperatura_med'].fillna(data['Temperatura_med'].mean())"
   ]
  },
  {
   "cell_type": "code",
   "execution_count": 30,
   "metadata": {},
   "outputs": [],
   "source": [
    "#imputación de datos de la variable de humedad mediante su promedio\n",
    "col_humed = data['Humedad_rel'].fillna(data['Humedad_rel'].mean())"
   ]
  },
  {
   "cell_type": "code",
   "execution_count": 31,
   "metadata": {},
   "outputs": [],
   "source": [
    "#imputación de datos de la variable precipitación de día mediante su promedio\n",
    "col_precip_d = data['Precipitacion_dia'].fillna(data['Precipitacion_dia'].mean())"
   ]
  },
  {
   "cell_type": "code",
   "execution_count": 32,
   "metadata": {},
   "outputs": [],
   "source": [
    "#imputación de datos de la variable precipitación de noche mediante su promedio\n",
    "col_precip_n = data['Precipitacion_noche'].fillna(data['Precipitacion_noche'].mean())"
   ]
  },
  {
   "cell_type": "code",
   "execution_count": 33,
   "metadata": {},
   "outputs": [],
   "source": [
    "#imputación de datos de la variable precipitación de día mediante su promedio\n",
    "col_precip_to = data['Precipitacion_total'].fillna(data['Precipitacion_total'].mean())"
   ]
  },
  {
   "cell_type": "code",
   "execution_count": 34,
   "metadata": {},
   "outputs": [],
   "source": [
    "#imputación de datos de la variable brillo solar mediante su promedio\n",
    "col_sun = data['Brillo_solar'].fillna(data['Brillo_solar'].mean())"
   ]
  },
  {
   "cell_type": "code",
   "execution_count": 35,
   "metadata": {},
   "outputs": [],
   "source": [
    "data[\"Temp_min\"] = col_temp_min\n",
    "data[\"Temp_max\"] = col_temp_max\n",
    "data[\"Temp_med\"] = col_temp_med\n",
    "data[\"Hum_rel\"] = col_humed\n",
    "data[\"Precip_dia\"] = col_precip_d\n",
    "data[\"Precip_noche\"] = col_precip_n\n",
    "data[\"Precip_total\"] = col_precip_to\n",
    "data[\"Brillo_sol\"] = col_sun"
   ]
  },
  {
   "cell_type": "code",
   "execution_count": 37,
   "metadata": {},
   "outputs": [
    {
     "data": {
      "text/html": [
       "<div>\n",
       "<style scoped>\n",
       "    .dataframe tbody tr th:only-of-type {\n",
       "        vertical-align: middle;\n",
       "    }\n",
       "\n",
       "    .dataframe tbody tr th {\n",
       "        vertical-align: top;\n",
       "    }\n",
       "\n",
       "    .dataframe thead th {\n",
       "        text-align: right;\n",
       "    }\n",
       "</style>\n",
       "<table border=\"1\" class=\"dataframe\">\n",
       "  <thead>\n",
       "    <tr style=\"text-align: right;\">\n",
       "      <th></th>\n",
       "      <th>Fecha</th>\n",
       "      <th>Estacion</th>\n",
       "      <th>Departamento</th>\n",
       "      <th>Municipio</th>\n",
       "      <th>Temperatura_min</th>\n",
       "      <th>Temperatura_max</th>\n",
       "      <th>Temperatura_med</th>\n",
       "      <th>Humedad_rel</th>\n",
       "      <th>Precipitacion_dia</th>\n",
       "      <th>Precipitacion_noche</th>\n",
       "      <th>...</th>\n",
       "      <th>Latitud</th>\n",
       "      <th>Altitud</th>\n",
       "      <th>Temp_min</th>\n",
       "      <th>Temp_max</th>\n",
       "      <th>Temp_med</th>\n",
       "      <th>Hum_rel</th>\n",
       "      <th>Precip_dia</th>\n",
       "      <th>Precip_noche</th>\n",
       "      <th>Precip_total</th>\n",
       "      <th>Brillo_sol</th>\n",
       "    </tr>\n",
       "  </thead>\n",
       "  <tbody>\n",
       "    <tr>\n",
       "      <td>0</td>\n",
       "      <td>1/Enero/2006</td>\n",
       "      <td>El Trapiche</td>\n",
       "      <td>Antioquia</td>\n",
       "      <td>Bolívar</td>\n",
       "      <td>16.6</td>\n",
       "      <td>28.4</td>\n",
       "      <td>20.4</td>\n",
       "      <td>74.7</td>\n",
       "      <td>0.0</td>\n",
       "      <td>0.0</td>\n",
       "      <td>...</td>\n",
       "      <td>5°48'N</td>\n",
       "      <td>1277</td>\n",
       "      <td>16.6</td>\n",
       "      <td>28.4</td>\n",
       "      <td>20.4</td>\n",
       "      <td>74.7</td>\n",
       "      <td>0.0</td>\n",
       "      <td>0.0</td>\n",
       "      <td>0.0</td>\n",
       "      <td>4.3</td>\n",
       "    </tr>\n",
       "    <tr>\n",
       "      <td>1</td>\n",
       "      <td>2/Enero/2006</td>\n",
       "      <td>El Trapiche</td>\n",
       "      <td>Antioquia</td>\n",
       "      <td>Bolívar</td>\n",
       "      <td>17.6</td>\n",
       "      <td>28.0</td>\n",
       "      <td>21.0</td>\n",
       "      <td>74.3</td>\n",
       "      <td>0.0</td>\n",
       "      <td>11.9</td>\n",
       "      <td>...</td>\n",
       "      <td>5°48'N</td>\n",
       "      <td>1277</td>\n",
       "      <td>17.6</td>\n",
       "      <td>28.0</td>\n",
       "      <td>21.0</td>\n",
       "      <td>74.3</td>\n",
       "      <td>0.0</td>\n",
       "      <td>11.9</td>\n",
       "      <td>11.9</td>\n",
       "      <td>6.6</td>\n",
       "    </tr>\n",
       "    <tr>\n",
       "      <td>2</td>\n",
       "      <td>3/Enero/2006</td>\n",
       "      <td>El Trapiche</td>\n",
       "      <td>Antioquia</td>\n",
       "      <td>Bolívar</td>\n",
       "      <td>17.4</td>\n",
       "      <td>26.5</td>\n",
       "      <td>20.4</td>\n",
       "      <td>77.3</td>\n",
       "      <td>0.0</td>\n",
       "      <td>15.9</td>\n",
       "      <td>...</td>\n",
       "      <td>5°48'N</td>\n",
       "      <td>1277</td>\n",
       "      <td>17.4</td>\n",
       "      <td>26.5</td>\n",
       "      <td>20.4</td>\n",
       "      <td>77.3</td>\n",
       "      <td>0.0</td>\n",
       "      <td>15.9</td>\n",
       "      <td>15.9</td>\n",
       "      <td>3.1</td>\n",
       "    </tr>\n",
       "    <tr>\n",
       "      <td>3</td>\n",
       "      <td>4/Enero/2006</td>\n",
       "      <td>El Trapiche</td>\n",
       "      <td>Antioquia</td>\n",
       "      <td>Bolívar</td>\n",
       "      <td>15.7</td>\n",
       "      <td>27.6</td>\n",
       "      <td>20.7</td>\n",
       "      <td>72.0</td>\n",
       "      <td>0.0</td>\n",
       "      <td>0.0</td>\n",
       "      <td>...</td>\n",
       "      <td>5°48'N</td>\n",
       "      <td>1277</td>\n",
       "      <td>15.7</td>\n",
       "      <td>27.6</td>\n",
       "      <td>20.7</td>\n",
       "      <td>72.0</td>\n",
       "      <td>0.0</td>\n",
       "      <td>0.0</td>\n",
       "      <td>0.0</td>\n",
       "      <td>6.9</td>\n",
       "    </tr>\n",
       "    <tr>\n",
       "      <td>4</td>\n",
       "      <td>5/Enero/2006</td>\n",
       "      <td>El Trapiche</td>\n",
       "      <td>Antioquia</td>\n",
       "      <td>Bolívar</td>\n",
       "      <td>17.2</td>\n",
       "      <td>25.2</td>\n",
       "      <td>19.2</td>\n",
       "      <td>86.0</td>\n",
       "      <td>0.3</td>\n",
       "      <td>8.0</td>\n",
       "      <td>...</td>\n",
       "      <td>5°48'N</td>\n",
       "      <td>1277</td>\n",
       "      <td>17.2</td>\n",
       "      <td>25.2</td>\n",
       "      <td>19.2</td>\n",
       "      <td>86.0</td>\n",
       "      <td>0.3</td>\n",
       "      <td>8.0</td>\n",
       "      <td>8.3</td>\n",
       "      <td>3.0</td>\n",
       "    </tr>\n",
       "  </tbody>\n",
       "</table>\n",
       "<p>5 rows × 23 columns</p>\n",
       "</div>"
      ],
      "text/plain": [
       "          Fecha      Estacion Departamento Municipio  Temperatura_min  \\\n",
       "0  1/Enero/2006   El Trapiche    Antioquia   Bolívar             16.6   \n",
       "1  2/Enero/2006   El Trapiche    Antioquia   Bolívar             17.6   \n",
       "2  3/Enero/2006   El Trapiche    Antioquia   Bolívar             17.4   \n",
       "3  4/Enero/2006   El Trapiche    Antioquia   Bolívar             15.7   \n",
       "4  5/Enero/2006   El Trapiche    Antioquia   Bolívar             17.2   \n",
       "\n",
       "   Temperatura_max  Temperatura_med  Humedad_rel  Precipitacion_dia  \\\n",
       "0             28.4             20.4         74.7                0.0   \n",
       "1             28.0             21.0         74.3                0.0   \n",
       "2             26.5             20.4         77.3                0.0   \n",
       "3             27.6             20.7         72.0                0.0   \n",
       "4             25.2             19.2         86.0                0.3   \n",
       "\n",
       "   Precipitacion_noche  ...  Latitud  Altitud Temp_min Temp_max  Temp_med  \\\n",
       "0                  0.0  ...   5°48'N     1277     16.6     28.4      20.4   \n",
       "1                 11.9  ...   5°48'N     1277     17.6     28.0      21.0   \n",
       "2                 15.9  ...   5°48'N     1277     17.4     26.5      20.4   \n",
       "3                  0.0  ...   5°48'N     1277     15.7     27.6      20.7   \n",
       "4                  8.0  ...   5°48'N     1277     17.2     25.2      19.2   \n",
       "\n",
       "   Hum_rel  Precip_dia  Precip_noche  Precip_total  Brillo_sol  \n",
       "0     74.7         0.0           0.0           0.0         4.3  \n",
       "1     74.3         0.0          11.9          11.9         6.6  \n",
       "2     77.3         0.0          15.9          15.9         3.1  \n",
       "3     72.0         0.0           0.0           0.0         6.9  \n",
       "4     86.0         0.3           8.0           8.3         3.0  \n",
       "\n",
       "[5 rows x 23 columns]"
      ]
     },
     "execution_count": 37,
     "metadata": {},
     "output_type": "execute_result"
    }
   ],
   "source": [
    "data.head()"
   ]
  },
  {
   "cell_type": "code",
   "execution_count": 39,
   "metadata": {},
   "outputs": [
    {
     "data": {
      "text/html": [
       "<div>\n",
       "<style scoped>\n",
       "    .dataframe tbody tr th:only-of-type {\n",
       "        vertical-align: middle;\n",
       "    }\n",
       "\n",
       "    .dataframe tbody tr th {\n",
       "        vertical-align: top;\n",
       "    }\n",
       "\n",
       "    .dataframe thead th {\n",
       "        text-align: right;\n",
       "    }\n",
       "</style>\n",
       "<table border=\"1\" class=\"dataframe\">\n",
       "  <thead>\n",
       "    <tr style=\"text-align: right;\">\n",
       "      <th></th>\n",
       "      <th>Fecha</th>\n",
       "      <th>Estacion</th>\n",
       "      <th>Departamento</th>\n",
       "      <th>Municipio</th>\n",
       "      <th>Temp_min</th>\n",
       "      <th>Temp_max</th>\n",
       "      <th>Temp_med</th>\n",
       "      <th>Hum_rel</th>\n",
       "      <th>Precip_dia</th>\n",
       "      <th>Precip_noche</th>\n",
       "      <th>Precip_total</th>\n",
       "      <th>Brillo_sol</th>\n",
       "      <th>Longitud</th>\n",
       "      <th>Latitud</th>\n",
       "      <th>Altitud</th>\n",
       "    </tr>\n",
       "  </thead>\n",
       "  <tbody>\n",
       "    <tr>\n",
       "      <td>0</td>\n",
       "      <td>1/Enero/2006</td>\n",
       "      <td>El Trapiche</td>\n",
       "      <td>Antioquia</td>\n",
       "      <td>Bolívar</td>\n",
       "      <td>16.6</td>\n",
       "      <td>28.4</td>\n",
       "      <td>20.4</td>\n",
       "      <td>74.7</td>\n",
       "      <td>0.0</td>\n",
       "      <td>0.0</td>\n",
       "      <td>0.0</td>\n",
       "      <td>4.3</td>\n",
       "      <td>76°1'W</td>\n",
       "      <td>5°48'N</td>\n",
       "      <td>1277</td>\n",
       "    </tr>\n",
       "    <tr>\n",
       "      <td>1</td>\n",
       "      <td>2/Enero/2006</td>\n",
       "      <td>El Trapiche</td>\n",
       "      <td>Antioquia</td>\n",
       "      <td>Bolívar</td>\n",
       "      <td>17.6</td>\n",
       "      <td>28.0</td>\n",
       "      <td>21.0</td>\n",
       "      <td>74.3</td>\n",
       "      <td>0.0</td>\n",
       "      <td>11.9</td>\n",
       "      <td>11.9</td>\n",
       "      <td>6.6</td>\n",
       "      <td>76°1'W</td>\n",
       "      <td>5°48'N</td>\n",
       "      <td>1277</td>\n",
       "    </tr>\n",
       "    <tr>\n",
       "      <td>2</td>\n",
       "      <td>3/Enero/2006</td>\n",
       "      <td>El Trapiche</td>\n",
       "      <td>Antioquia</td>\n",
       "      <td>Bolívar</td>\n",
       "      <td>17.4</td>\n",
       "      <td>26.5</td>\n",
       "      <td>20.4</td>\n",
       "      <td>77.3</td>\n",
       "      <td>0.0</td>\n",
       "      <td>15.9</td>\n",
       "      <td>15.9</td>\n",
       "      <td>3.1</td>\n",
       "      <td>76°1'W</td>\n",
       "      <td>5°48'N</td>\n",
       "      <td>1277</td>\n",
       "    </tr>\n",
       "    <tr>\n",
       "      <td>3</td>\n",
       "      <td>4/Enero/2006</td>\n",
       "      <td>El Trapiche</td>\n",
       "      <td>Antioquia</td>\n",
       "      <td>Bolívar</td>\n",
       "      <td>15.7</td>\n",
       "      <td>27.6</td>\n",
       "      <td>20.7</td>\n",
       "      <td>72.0</td>\n",
       "      <td>0.0</td>\n",
       "      <td>0.0</td>\n",
       "      <td>0.0</td>\n",
       "      <td>6.9</td>\n",
       "      <td>76°1'W</td>\n",
       "      <td>5°48'N</td>\n",
       "      <td>1277</td>\n",
       "    </tr>\n",
       "    <tr>\n",
       "      <td>4</td>\n",
       "      <td>5/Enero/2006</td>\n",
       "      <td>El Trapiche</td>\n",
       "      <td>Antioquia</td>\n",
       "      <td>Bolívar</td>\n",
       "      <td>17.2</td>\n",
       "      <td>25.2</td>\n",
       "      <td>19.2</td>\n",
       "      <td>86.0</td>\n",
       "      <td>0.3</td>\n",
       "      <td>8.0</td>\n",
       "      <td>8.3</td>\n",
       "      <td>3.0</td>\n",
       "      <td>76°1'W</td>\n",
       "      <td>5°48'N</td>\n",
       "      <td>1277</td>\n",
       "    </tr>\n",
       "  </tbody>\n",
       "</table>\n",
       "</div>"
      ],
      "text/plain": [
       "          Fecha      Estacion Departamento Municipio  Temp_min  Temp_max  \\\n",
       "0  1/Enero/2006   El Trapiche    Antioquia   Bolívar      16.6      28.4   \n",
       "1  2/Enero/2006   El Trapiche    Antioquia   Bolívar      17.6      28.0   \n",
       "2  3/Enero/2006   El Trapiche    Antioquia   Bolívar      17.4      26.5   \n",
       "3  4/Enero/2006   El Trapiche    Antioquia   Bolívar      15.7      27.6   \n",
       "4  5/Enero/2006   El Trapiche    Antioquia   Bolívar      17.2      25.2   \n",
       "\n",
       "   Temp_med  Hum_rel  Precip_dia  Precip_noche  Precip_total  Brillo_sol  \\\n",
       "0      20.4     74.7         0.0           0.0           0.0         4.3   \n",
       "1      21.0     74.3         0.0          11.9          11.9         6.6   \n",
       "2      20.4     77.3         0.0          15.9          15.9         3.1   \n",
       "3      20.7     72.0         0.0           0.0           0.0         6.9   \n",
       "4      19.2     86.0         0.3           8.0           8.3         3.0   \n",
       "\n",
       "  Longitud Latitud  Altitud  \n",
       "0   76°1'W  5°48'N     1277  \n",
       "1   76°1'W  5°48'N     1277  \n",
       "2   76°1'W  5°48'N     1277  \n",
       "3   76°1'W  5°48'N     1277  \n",
       "4   76°1'W  5°48'N     1277  "
      ]
     },
     "execution_count": 39,
     "metadata": {},
     "output_type": "execute_result"
    }
   ],
   "source": [
    "data = data[['Fecha', 'Estacion', 'Departamento', 'Municipio', 'Temp_min', 'Temp_max', 'Temp_med', 'Hum_rel', 'Precip_dia','Precip_noche','Precip_total', 'Brillo_sol','Longitud', 'Latitud', 'Altitud']]\n",
    "data.head()"
   ]
  },
  {
   "cell_type": "code",
   "execution_count": 41,
   "metadata": {},
   "outputs": [],
   "source": [
    "new_data = data.dropna(axis = 0, how ='any') "
   ]
  },
  {
   "cell_type": "code",
   "execution_count": 43,
   "metadata": {},
   "outputs": [
    {
     "name": "stdout",
     "output_type": "stream",
     "text": [
      "Old data frame length: 489622\n",
      "New data frame length: 489622\n",
      "Number of rows with at least 1 NA value:  0\n"
     ]
    }
   ],
   "source": [
    "print(\"Old data frame length:\", len(data)) \n",
    "print(\"New data frame length:\", len(new_data))  \n",
    "print(\"Number of rows with at least 1 NA value: \", (len(data)-len(new_data))) "
   ]
  },
  {
   "cell_type": "code",
   "execution_count": 45,
   "metadata": {},
   "outputs": [],
   "source": [
    "df = pd.DataFrame(data)\n",
    "df.to_csv('Anuarios_completo1.csv')"
   ]
  },
  {
   "cell_type": "code",
   "execution_count": 46,
   "metadata": {},
   "outputs": [
    {
     "data": {
      "text/plain": [
       "Fecha            object\n",
       "Estacion         object\n",
       "Departamento     object\n",
       "Municipio        object\n",
       "Temp_min        float64\n",
       "Temp_max        float64\n",
       "Temp_med        float64\n",
       "Hum_rel         float64\n",
       "Precip_dia      float64\n",
       "Precip_noche    float64\n",
       "Precip_total    float64\n",
       "Brillo_sol      float64\n",
       "Longitud         object\n",
       "Latitud          object\n",
       "Altitud           int64\n",
       "dtype: object"
      ]
     },
     "execution_count": 46,
     "metadata": {},
     "output_type": "execute_result"
    }
   ],
   "source": [
    "df.dtypes"
   ]
  },
  {
   "cell_type": "code",
   "execution_count": 47,
   "metadata": {},
   "outputs": [
    {
     "data": {
      "text/html": [
       "<div>\n",
       "<style scoped>\n",
       "    .dataframe tbody tr th:only-of-type {\n",
       "        vertical-align: middle;\n",
       "    }\n",
       "\n",
       "    .dataframe tbody tr th {\n",
       "        vertical-align: top;\n",
       "    }\n",
       "\n",
       "    .dataframe thead th {\n",
       "        text-align: right;\n",
       "    }\n",
       "</style>\n",
       "<table border=\"1\" class=\"dataframe\">\n",
       "  <thead>\n",
       "    <tr style=\"text-align: right;\">\n",
       "      <th></th>\n",
       "      <th>Fecha</th>\n",
       "      <th>Estacion</th>\n",
       "      <th>Departamento</th>\n",
       "      <th>Municipio</th>\n",
       "      <th>Temp_min</th>\n",
       "      <th>Temp_max</th>\n",
       "      <th>Temp_med</th>\n",
       "      <th>Hum_rel</th>\n",
       "      <th>Precip_dia</th>\n",
       "      <th>Precip_noche</th>\n",
       "      <th>Precip_total</th>\n",
       "      <th>Brillo_sol</th>\n",
       "      <th>Longitud</th>\n",
       "      <th>Latitud</th>\n",
       "      <th>Altitud</th>\n",
       "    </tr>\n",
       "  </thead>\n",
       "  <tbody>\n",
       "    <tr>\n",
       "      <td>True</td>\n",
       "      <td>489622</td>\n",
       "      <td>489622</td>\n",
       "      <td>489622</td>\n",
       "      <td>489622</td>\n",
       "      <td>489622</td>\n",
       "      <td>489622</td>\n",
       "      <td>489622</td>\n",
       "      <td>489622</td>\n",
       "      <td>489622</td>\n",
       "      <td>489622</td>\n",
       "      <td>489622</td>\n",
       "      <td>489622</td>\n",
       "      <td>489622</td>\n",
       "      <td>489622</td>\n",
       "      <td>489622</td>\n",
       "    </tr>\n",
       "  </tbody>\n",
       "</table>\n",
       "</div>"
      ],
      "text/plain": [
       "       Fecha  Estacion  Departamento  Municipio  Temp_min  Temp_max  Temp_med  \\\n",
       "True  489622    489622        489622     489622    489622    489622    489622   \n",
       "\n",
       "      Hum_rel  Precip_dia  Precip_noche  Precip_total  Brillo_sol  Longitud  \\\n",
       "True   489622      489622        489622        489622      489622    489622   \n",
       "\n",
       "      Latitud  Altitud  \n",
       "True   489622   489622  "
      ]
     },
     "execution_count": 47,
     "metadata": {},
     "output_type": "execute_result"
    }
   ],
   "source": [
    "data.notnull().apply(pd.Series.value_counts)"
   ]
  },
  {
   "cell_type": "code",
   "execution_count": null,
   "metadata": {},
   "outputs": [],
   "source": []
  }
 ],
 "metadata": {
  "kernelspec": {
   "display_name": "Python 3",
   "language": "python",
   "name": "python3"
  },
  "language_info": {
   "codemirror_mode": {
    "name": "ipython",
    "version": 3
   },
   "file_extension": ".py",
   "mimetype": "text/x-python",
   "name": "python",
   "nbconvert_exporter": "python",
   "pygments_lexer": "ipython3",
   "version": "3.7.4"
  }
 },
 "nbformat": 4,
 "nbformat_minor": 2
}
